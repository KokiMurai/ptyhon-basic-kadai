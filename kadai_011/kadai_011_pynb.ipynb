{
  "nbformat": 4,
  "nbformat_minor": 0,
  "metadata": {
    "colab": {
      "provenance": []
    },
    "kernelspec": {
      "name": "python3",
      "display_name": "Python 3"
    },
    "language_info": {
      "name": "python"
    }
  },
  "cells": [
    {
      "cell_type": "code",
      "execution_count": 20,
      "metadata": {
        "colab": {
          "base_uri": "https://localhost:8080/"
        },
        "id": "kX8x-I44ShPJ",
        "outputId": "f2fe048a-0982-4ff8-a39b-e96ee3cffac3"
      },
      "outputs": [
        {
          "output_type": "stream",
          "name": "stdout",
          "text": [
            "水\n",
            "金\n",
            "地\n",
            "火\n",
            "木\n",
            "土\n",
            "天\n",
            "海\n",
            "冥\n",
            "水\n",
            "金\n",
            "地\n",
            "火\n",
            "木\n",
            "土\n",
            "天\n",
            "海\n",
            "冥\n"
          ]
        }
      ],
      "source": [
        "array = [\"水\",\"金\",\"地\",\"火\",\"木\",\"土\",\"天\",\"海\",\"冥\"]\n",
        "\n",
        "for i in range(1,10):\n",
        "  print(array[i-1])\n",
        "\n",
        "j = 0\n",
        "while j <10:\n",
        "  print(array[j])\n",
        "  j = j +1\n",
        "  if j == 9:\n",
        "    break"
      ]
    }
  ]
}