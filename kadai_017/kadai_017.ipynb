{
  "nbformat": 4,
  "nbformat_minor": 0,
  "metadata": {
    "colab": {
      "provenance": []
    },
    "kernelspec": {
      "name": "python3",
      "display_name": "Python 3"
    },
    "language_info": {
      "name": "python"
    }
  },
  "cells": [
    {
      "cell_type": "code",
      "execution_count": 7,
      "metadata": {
        "colab": {
          "base_uri": "https://localhost:8080/"
        },
        "id": "VOtSwr3LmyXy",
        "outputId": "981ae292-8bb4-4919-f9fb-2e360094e704"
      },
      "outputs": [
        {
          "output_type": "stream",
          "name": "stdout",
          "text": [
            "Aは大人です。\n",
            "Bは大人です。\n",
            "Cは大人ではありません。\n",
            "Dは大人ではありません。\n",
            "Eは大人です。\n"
          ]
        }
      ],
      "source": [
        "class Human:\n",
        "\n",
        "  def __init__(self, name, age):\n",
        "    self.name = name\n",
        "    self.age = age\n",
        "\n",
        "  def check_adult(self):\n",
        "    if self.age>=20:\n",
        "      print(f\"{self.name}は大人です。\")\n",
        "    else:\n",
        "      print(f\"{self.name}は大人ではありません。\")\n",
        "\n",
        "humans = [Human(\"A\",25),Human(\"B\",34),Human(\"C\",19),Human(\"D\",5),Human(\"E\",89)]\n",
        "\n",
        "for human in humans:\n",
        "  human.check_adult()\n"
      ]
    },
    {
      "cell_type": "code",
      "source": [],
      "metadata": {
        "id": "qlbQU6fZooLc"
      },
      "execution_count": null,
      "outputs": []
    }
  ]
}