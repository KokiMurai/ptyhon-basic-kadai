{
  "nbformat": 4,
  "nbformat_minor": 0,
  "metadata": {
    "colab": {
      "provenance": []
    },
    "kernelspec": {
      "name": "python3",
      "display_name": "Python 3"
    },
    "language_info": {
      "name": "python"
    }
  },
  "cells": [
    {
      "cell_type": "code",
      "execution_count": 2,
      "metadata": {
        "colab": {
          "base_uri": "https://localhost:8080/"
        },
        "id": "s_KFv0S8Zwnc",
        "outputId": "e8812409-4e7c-48c3-d331-d5ffdff12e26"
      },
      "outputs": [
        {
          "output_type": "stream",
          "name": "stdout",
          "text": [
            "1100.0円\n"
          ]
        }
      ],
      "source": [
        "def total_product_amount(price,tax):\n",
        "  total = price + price*(tax/100)\n",
        "\n",
        "  print(f\"{total}円\")\n",
        "\n",
        "total_product_amount(1000,10)"
      ]
    }
  ]
}